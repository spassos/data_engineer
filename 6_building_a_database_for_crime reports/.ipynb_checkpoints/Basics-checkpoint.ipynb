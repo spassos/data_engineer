{
 "cells": [
  {
   "cell_type": "markdown",
   "metadata": {},
   "source": [
    "# Guided Project Solution: Building a database for crime reports\n",
    "\n",
    "## Apply what you have learned to set up a database for storing crime reports data\n",
    "\n",
    "The goal of this guided project is to setup a database from scratch and the Boston crime data into it.\n",
    "\n",
    "We will create two user groups:\n",
    "\n",
    "* `readonly`: Users in this group will have permission to read data only.\n",
    "* `readwrite`: Users in this group will have permissions to read and alter data but not to delete tables.\n",
    "\n",
    "## Creating the database and the schema\n",
    "\n",
    "Create a database named crime_db and a schema named crimes for storing the tables for containing the crime data.\n",
    "The database crime_db does not exist yet so we connect to dq."
   ]
  },
  {
   "cell_type": "code",
   "execution_count": null,
   "metadata": {
    "collapsed": true
   },
   "outputs": [],
   "source": []
  }
 ],
 "metadata": {
  "kernelspec": {
   "display_name": "Python 3",
   "language": "python",
   "name": "python3"
  },
  "language_info": {
   "codemirror_mode": {
    "name": "ipython",
    "version": 3
   },
   "file_extension": ".py",
   "mimetype": "text/x-python",
   "name": "python",
   "nbconvert_exporter": "python",
   "pygments_lexer": "ipython3",
   "version": "3.4.3"
  }
 },
 "nbformat": 4,
 "nbformat_minor": 2
}
